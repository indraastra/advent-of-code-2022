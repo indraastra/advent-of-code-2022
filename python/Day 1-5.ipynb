{
 "cells": [
  {
   "cell_type": "markdown",
   "metadata": {},
   "source": [
    "# Common imports & library functions"
   ]
  },
  {
   "cell_type": "code",
   "execution_count": 3,
   "metadata": {},
   "outputs": [],
   "source": [
    "import doctest"
   ]
  },
  {
   "cell_type": "markdown",
   "metadata": {},
   "source": [
    "# Day 1: Calorie Counting"
   ]
  },
  {
   "cell_type": "code",
   "execution_count": 21,
   "metadata": {},
   "outputs": [],
   "source": [
    "def parse_calories(calories_txt):\n",
    "  r\"\"\"\n",
    "  >>> parse_calories(\"1\\n2\\n3\\n\\n4\\n5\")\n",
    "  [[1, 2, 3], [4, 5]]\n",
    "  \"\"\"\n",
    "  return [[int(c) for c in items_per_elf.split('\\n')]\n",
    "          for items_per_elf in calories_txt.split('\\n\\n')]\n",
    "\n",
    "def max_calories(calories, n=1):\n",
    "  \"\"\"\n",
    "  >>> max_calories([[1, 2, 3], [4, 5]], n=1)\n",
    "  9\n",
    "  >>> max_calories([[1, 2, 3], [4, 5]], n=2)\n",
    "  [9, 6]\n",
    "  >>> max_calories([[1000, 2000, 3000], [4000], [5000, 6000], [7000, 8000, 9000], [10000]])\n",
    "  24000\n",
    "  \"\"\"\n",
    "  sums = (sum(cs) for cs in calories)\n",
    "  if n == 1:\n",
    "    return max(sums)\n",
    "  else:\n",
    "    return sorted(sums, reverse=True)[:n]"
   ]
  },
  {
   "cell_type": "code",
   "execution_count": 22,
   "metadata": {},
   "outputs": [
    {
     "name": "stdout",
     "output_type": "stream",
     "text": [
      "Finding tests in NoName\n",
      "Trying:\n",
      "    parse_calories(\"1\\n2\\n3\\n\\n4\\n5\")\n",
      "Expecting:\n",
      "    [[1, 2, 3], [4, 5]]\n",
      "ok\n",
      "Finding tests in NoName\n",
      "Trying:\n",
      "    max_calories([[1, 2, 3], [4, 5]], n=1)\n",
      "Expecting:\n",
      "    9\n",
      "ok\n",
      "Trying:\n",
      "    max_calories([[1, 2, 3], [4, 5]], n=2)\n",
      "Expecting:\n",
      "    [9, 6]\n",
      "ok\n",
      "Trying:\n",
      "    max_calories([[1000, 2000, 3000], [4000], [5000, 6000], [7000, 8000, 9000], [10000]])\n",
      "Expecting:\n",
      "    24000\n",
      "ok\n"
     ]
    }
   ],
   "source": [
    "doctest.run_docstring_examples(parse_calories, globs=None, verbose=True)\n",
    "doctest.run_docstring_examples(max_calories, globs=None, verbose=True)"
   ]
  },
  {
   "cell_type": "code",
   "execution_count": 23,
   "metadata": {},
   "outputs": [
    {
     "name": "stdout",
     "output_type": "stream",
     "text": [
      "Part 1:  71506\n",
      "Part 2:  209603\n"
     ]
    }
   ],
   "source": [
    "# Final answers\n",
    "with open('day1.txt') as f:\n",
    "    calories = parse_calories(f.read().strip())\n",
    "    print('Part 1: ', max_calories(calories))\n",
    "    print('Part 2: ', sum(max_calories(calories, 3)))"
   ]
  },
  {
   "cell_type": "markdown",
   "metadata": {},
   "source": [
    "# Day 2: Rock Paper Scissors"
   ]
  },
  {
   "cell_type": "code",
   "execution_count": 29,
   "metadata": {},
   "outputs": [],
   "source": [
    "SHAPE_SCORES = {'A': 1, 'B': 2, 'C': 3}\n",
    "RESPONSES = {'X': 'A', 'Y': 'B', 'Z': 'C'}\n",
    "BEATS = {('A', 'B'), ('B', 'C'), ('C', 'A')}\n",
    "\n",
    "def bad_response(them, you):\n",
    "  return RESPONSES[you]\n",
    "\n",
    "def smart_response(them, you):\n",
    "  if you == 'Y':    # tie\n",
    "    return them\n",
    "  elif you == 'X':  # lose\n",
    "    return next(l for (l, w) in BEATS if them == w)\n",
    "  elif you == 'Z':  # win\n",
    "    return next(w for (l, w) in BEATS if them == l)\n",
    "\n",
    "def shape_score(shape):\n",
    "  return SHAPE_SCORES[shape]\n",
    "\n",
    "def outcome_score(them, you):\n",
    "  if them == you:  # tie\n",
    "    return 3\n",
    "  elif (them, you) in BEATS:  # win\n",
    "    return 6\n",
    "  else:  # lose\n",
    "    return 0\n",
    "\n",
    "def score_game(game, response_fn):\n",
    "  them, you = game.split(' ')\n",
    "  you = response_fn(them, you)\n",
    "  return shape_score(you) + outcome_score(them, you)\n",
    "\n",
    "def score_strategy(strategy, response_fn):\n",
    "  r\"\"\"\n",
    "  >>> score_strategy(\"A Y\\nB X\\nC Z\", response_fn=bad_response)\n",
    "  15\n",
    "  >>> score_strategy(\"A Y\\nB X\\nC Z\", response_fn=smart_response)\n",
    "  12\n",
    "  \"\"\"\n",
    "  return sum(score_game(g, response_fn) for g in strategy.split('\\n'))\n"
   ]
  },
  {
   "cell_type": "code",
   "execution_count": 30,
   "metadata": {},
   "outputs": [
    {
     "name": "stdout",
     "output_type": "stream",
     "text": [
      "Finding tests in NoName\n",
      "Trying:\n",
      "    score_strategy(\"A Y\\nB X\\nC Z\", response_fn=bad_response)\n",
      "Expecting:\n",
      "    15\n",
      "**********************************************************************\n",
      "File \"__main__\", line 34, in NoName\n",
      "Failed example:\n",
      "    score_strategy(\"A Y\\nB X\\nC Z\", response_fn=bad_response)\n",
      "Exception raised:\n",
      "    Traceback (most recent call last):\n",
      "      File \"/usr/lib/python3.8/doctest.py\", line 1336, in __run\n",
      "        exec(compile(example.source, filename, \"single\",\n",
      "      File \"<doctest NoName[0]>\", line 1, in <module>\n",
      "        score_strategy(\"A Y\\nB X\\nC Z\", response_fn=bad_response)\n",
      "      File \"/tmp/ipykernel_381/2069162882.py\", line 39, in score_strategy\n",
      "        return sum(score_game(g, response_fn) for g in strategy.split('\\n'))\n",
      "      File \"/tmp/ipykernel_381/2069162882.py\", line 39, in <genexpr>\n",
      "        return sum(score_game(g, response_fn) for g in strategy.split('\\n'))\n",
      "      File \"/tmp/ipykernel_381/2069162882.py\", line 30, in score_game\n",
      "        return shape_score(them, you) + outcome_score(them, you)\n",
      "    TypeError: shape_score() takes 1 positional argument but 2 were given\n",
      "Trying:\n",
      "    score_strategy(\"A Y\\nB X\\nC Z\", response_fn=smart_response)\n",
      "Expecting:\n",
      "    12\n",
      "**********************************************************************\n",
      "File \"__main__\", line 36, in NoName\n",
      "Failed example:\n",
      "    score_strategy(\"A Y\\nB X\\nC Z\", response_fn=smart_response)\n",
      "Exception raised:\n",
      "    Traceback (most recent call last):\n",
      "      File \"/usr/lib/python3.8/doctest.py\", line 1336, in __run\n",
      "        exec(compile(example.source, filename, \"single\",\n",
      "      File \"<doctest NoName[1]>\", line 1, in <module>\n",
      "        score_strategy(\"A Y\\nB X\\nC Z\", response_fn=smart_response)\n",
      "      File \"/tmp/ipykernel_381/2069162882.py\", line 39, in score_strategy\n",
      "        return sum(score_game(g, response_fn) for g in strategy.split('\\n'))\n",
      "      File \"/tmp/ipykernel_381/2069162882.py\", line 39, in <genexpr>\n",
      "        return sum(score_game(g, response_fn) for g in strategy.split('\\n'))\n",
      "      File \"/tmp/ipykernel_381/2069162882.py\", line 30, in score_game\n",
      "        return shape_score(them, you) + outcome_score(them, you)\n",
      "    TypeError: shape_score() takes 1 positional argument but 2 were given\n"
     ]
    }
   ],
   "source": [
    "doctest.run_docstring_examples(score_strategy, globs=None, verbose=True)"
   ]
  },
  {
   "cell_type": "code",
   "execution_count": 28,
   "metadata": {},
   "outputs": [
    {
     "name": "stdout",
     "output_type": "stream",
     "text": [
      "Part 1:  11906\n"
     ]
    },
    {
     "ename": "KeyError",
     "evalue": "None",
     "output_type": "error",
     "traceback": [
      "\u001b[0;31m---------------------------------------------------------------------------\u001b[0m",
      "\u001b[0;31mKeyError\u001b[0m                                  Traceback (most recent call last)",
      "Cell \u001b[0;32mIn[28], line 5\u001b[0m\n\u001b[1;32m      3\u001b[0m strategy \u001b[39m=\u001b[39m f\u001b[39m.\u001b[39mread()\u001b[39m.\u001b[39mstrip()\n\u001b[1;32m      4\u001b[0m \u001b[39mprint\u001b[39m(\u001b[39m'\u001b[39m\u001b[39mPart 1: \u001b[39m\u001b[39m'\u001b[39m, score_strategy(strategy, bad_response))\n\u001b[0;32m----> 5\u001b[0m \u001b[39mprint\u001b[39m(\u001b[39m'\u001b[39m\u001b[39mPart 2: \u001b[39m\u001b[39m'\u001b[39m, score_strategy(strategy, smart_response))\n",
      "Cell \u001b[0;32mIn[26], line 32\u001b[0m, in \u001b[0;36mscore_strategy\u001b[0;34m(strategy, response_fn)\u001b[0m\n\u001b[1;32m     27\u001b[0m \u001b[39mdef\u001b[39;00m \u001b[39mscore_strategy\u001b[39m(strategy, response_fn):\n\u001b[1;32m     28\u001b[0m   \u001b[39mr\u001b[39m\u001b[39m\"\"\"\u001b[39;00m\n\u001b[1;32m     29\u001b[0m \u001b[39m  >>> score_strategy(\"A Y\\nB X\\nC Z\", response_fn=bad_response)\u001b[39;00m\n\u001b[1;32m     30\u001b[0m \u001b[39m  15\u001b[39;00m\n\u001b[1;32m     31\u001b[0m \u001b[39m  \"\"\"\u001b[39;00m\n\u001b[0;32m---> 32\u001b[0m   \u001b[39mreturn\u001b[39;00m \u001b[39msum\u001b[39;49m(score_game(g, response_fn) \u001b[39mfor\u001b[39;49;00m g \u001b[39min\u001b[39;49;00m strategy\u001b[39m.\u001b[39;49msplit(\u001b[39m'\u001b[39;49m\u001b[39m\\n\u001b[39;49;00m\u001b[39m'\u001b[39;49m))\n",
      "Cell \u001b[0;32mIn[26], line 32\u001b[0m, in \u001b[0;36m<genexpr>\u001b[0;34m(.0)\u001b[0m\n\u001b[1;32m     27\u001b[0m \u001b[39mdef\u001b[39;00m \u001b[39mscore_strategy\u001b[39m(strategy, response_fn):\n\u001b[1;32m     28\u001b[0m   \u001b[39mr\u001b[39m\u001b[39m\"\"\"\u001b[39;00m\n\u001b[1;32m     29\u001b[0m \u001b[39m  >>> score_strategy(\"A Y\\nB X\\nC Z\", response_fn=bad_response)\u001b[39;00m\n\u001b[1;32m     30\u001b[0m \u001b[39m  15\u001b[39;00m\n\u001b[1;32m     31\u001b[0m \u001b[39m  \"\"\"\u001b[39;00m\n\u001b[0;32m---> 32\u001b[0m   \u001b[39mreturn\u001b[39;00m \u001b[39msum\u001b[39m(score_game(g, response_fn) \u001b[39mfor\u001b[39;00m g \u001b[39min\u001b[39;00m strategy\u001b[39m.\u001b[39msplit(\u001b[39m'\u001b[39m\u001b[39m\\n\u001b[39;00m\u001b[39m'\u001b[39m))\n",
      "Cell \u001b[0;32mIn[26], line 25\u001b[0m, in \u001b[0;36mscore_game\u001b[0;34m(game, response_fn)\u001b[0m\n\u001b[1;32m     23\u001b[0m l, r \u001b[39m=\u001b[39m game\u001b[39m.\u001b[39msplit(\u001b[39m'\u001b[39m\u001b[39m \u001b[39m\u001b[39m'\u001b[39m)\n\u001b[1;32m     24\u001b[0m r_actual \u001b[39m=\u001b[39m response_fn(l, r)\n\u001b[0;32m---> 25\u001b[0m \u001b[39mreturn\u001b[39;00m shape_score(l, r_actual) \u001b[39m+\u001b[39m outcome_score(l, r_actual)\n",
      "Cell \u001b[0;32mIn[26], line 12\u001b[0m, in \u001b[0;36mshape_score\u001b[0;34m(l, r)\u001b[0m\n\u001b[1;32m     11\u001b[0m \u001b[39mdef\u001b[39;00m \u001b[39mshape_score\u001b[39m(l, r):\n\u001b[0;32m---> 12\u001b[0m   \u001b[39mreturn\u001b[39;00m SHAPE_SCORES[r]\n",
      "\u001b[0;31mKeyError\u001b[0m: None"
     ]
    }
   ],
   "source": [
    "# Final answers\n",
    "with open('day2.txt') as f:\n",
    "    strategy = f.read().strip()\n",
    "    print('Part 1: ', score_strategy(strategy, bad_response))\n",
    "    print('Part 2: ', score_strategy(strategy, smart_response))"
   ]
  },
  {
   "cell_type": "code",
   "execution_count": null,
   "metadata": {},
   "outputs": [],
   "source": []
  }
 ],
 "metadata": {
  "kernelspec": {
   "display_name": "Python 3.8.10 ('.venv': poetry)",
   "language": "python",
   "name": "python3"
  },
  "language_info": {
   "codemirror_mode": {
    "name": "ipython",
    "version": 3
   },
   "file_extension": ".py",
   "mimetype": "text/x-python",
   "name": "python",
   "nbconvert_exporter": "python",
   "pygments_lexer": "ipython3",
   "version": "3.8.10"
  },
  "orig_nbformat": 4,
  "vscode": {
   "interpreter": {
    "hash": "1005cf2ebbbefdb95d055bf73c199dbf3d599b8ded6068c113a39379c76fbafa"
   }
  }
 },
 "nbformat": 4,
 "nbformat_minor": 2
}
