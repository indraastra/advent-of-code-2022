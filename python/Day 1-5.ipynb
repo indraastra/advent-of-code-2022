{
 "cells": [
  {
   "cell_type": "markdown",
   "metadata": {},
   "source": [
    "# Common imports & library functions"
   ]
  },
  {
   "cell_type": "code",
   "execution_count": 1,
   "metadata": {},
   "outputs": [],
   "source": [
    "import doctest"
   ]
  },
  {
   "cell_type": "markdown",
   "metadata": {},
   "source": [
    "# Day 1: Calorie Counting"
   ]
  },
  {
   "cell_type": "code",
   "execution_count": 17,
   "metadata": {},
   "outputs": [],
   "source": [
    "def parse_calories(calories_txt):\n",
    "  r\"\"\"\n",
    "  >>> parse_calories(\"1\\n2\\n3\\n\\n4\\n5\")\n",
    "  [[1, 2, 3], [4, 5]]\n",
    "  \"\"\"\n",
    "  return [[int(c) for c in items_per_elf.split('\\n')]\n",
    "          for items_per_elf in calories_txt.split('\\n\\n')]\n",
    "\n",
    "def max_calories(calories, n=1):\n",
    "  \"\"\"\n",
    "  >>> max_calories([[1, 2, 3], [4, 5]], n=1)\n",
    "  9\n",
    "  >>> max_calories([[1, 2, 3], [4, 5]], n=2)\n",
    "  [9, 6]\n",
    "  >>> max_calories([[1000, 2000, 3000], [4000], [5000, 6000], [7000, 8000, 9000], [10000]])\n",
    "  24000\n",
    "  \"\"\"\n",
    "  sums = sum(cs) for cs in calories\n",
    "  if n == 1:\n",
    "    return max(sums)\n",
    "  else:\n",
    "    return sorted(sums, reverse=True)[:n]"
   ]
  },
  {
   "cell_type": "code",
   "execution_count": 18,
   "metadata": {},
   "outputs": [
    {
     "name": "stdout",
     "output_type": "stream",
     "text": [
      "Finding tests in NoName\n",
      "Trying:\n",
      "    parse_calories(\"1\\n2\\n3\\n\\n4\\n5\")\n",
      "Expecting:\n",
      "    [[1, 2, 3], [4, 5]]\n",
      "ok\n",
      "Finding tests in NoName\n",
      "Trying:\n",
      "    max_calories([[1, 2, 3], [4, 5]], n=1)\n",
      "Expecting:\n",
      "    9\n",
      "**********************************************************************\n",
      "File \"__main__\", line 11, in NoName\n",
      "Failed example:\n",
      "    max_calories([[1, 2, 3], [4, 5]], n=1)\n",
      "Expected:\n",
      "    9\n",
      "Got:\n",
      "    [9]\n",
      "Trying:\n",
      "    max_calories([[1, 2, 3], [4, 5]], n=2)\n",
      "Expecting:\n",
      "    [9, 6]\n",
      "ok\n",
      "Trying:\n",
      "    max_calories([[1000, 2000, 3000], [4000], [5000, 6000], [7000, 8000, 9000], [10000]])\n",
      "Expecting:\n",
      "    24000\n",
      "**********************************************************************\n",
      "File \"__main__\", line 15, in NoName\n",
      "Failed example:\n",
      "    max_calories([[1000, 2000, 3000], [4000], [5000, 6000], [7000, 8000, 9000], [10000]])\n",
      "Expected:\n",
      "    24000\n",
      "Got:\n",
      "    [24000]\n"
     ]
    }
   ],
   "source": [
    "doctest.run_docstring_examples(parse_calories, globs=None, verbose=True)\n",
    "doctest.run_docstring_examples(max_calories, globs=None, verbose=True)"
   ]
  },
  {
   "cell_type": "code",
   "execution_count": 14,
   "metadata": {},
   "outputs": [
    {
     "name": "stdout",
     "output_type": "stream",
     "text": [
      "Part 1:  71506\n"
     ]
    }
   ],
   "source": [
    "# Final answers\n",
    "with open('day1.txt') as f:\n",
    "    calories = parse_calories(f.read().strip())\n",
    "    print('Part 1: ', max_calories(calories))"
   ]
  },
  {
   "cell_type": "code",
   "execution_count": null,
   "metadata": {},
   "outputs": [],
   "source": []
  }
 ],
 "metadata": {
  "kernelspec": {
   "display_name": "Python 3.8.10 ('.venv': poetry)",
   "language": "python",
   "name": "python3"
  },
  "language_info": {
   "codemirror_mode": {
    "name": "ipython",
    "version": 3
   },
   "file_extension": ".py",
   "mimetype": "text/x-python",
   "name": "python",
   "nbconvert_exporter": "python",
   "pygments_lexer": "ipython3",
   "version": "3.8.10"
  },
  "orig_nbformat": 4,
  "vscode": {
   "interpreter": {
    "hash": "1005cf2ebbbefdb95d055bf73c199dbf3d599b8ded6068c113a39379c76fbafa"
   }
  }
 },
 "nbformat": 4,
 "nbformat_minor": 2
}
