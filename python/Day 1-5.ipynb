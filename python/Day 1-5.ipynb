{
 "cells": [
  {
   "cell_type": "markdown",
   "metadata": {},
   "source": [
    "# Common imports & library functions"
   ]
  },
  {
   "cell_type": "code",
   "execution_count": 3,
   "metadata": {},
   "outputs": [],
   "source": [
    "import doctest"
   ]
  },
  {
   "cell_type": "markdown",
   "metadata": {},
   "source": [
    "# Day 1: Calorie Counting"
   ]
  },
  {
   "cell_type": "code",
   "execution_count": 21,
   "metadata": {},
   "outputs": [],
   "source": [
    "def parse_calories(calories_txt):\n",
    "  r\"\"\"\n",
    "  >>> parse_calories(\"1\\n2\\n3\\n\\n4\\n5\")\n",
    "  [[1, 2, 3], [4, 5]]\n",
    "  \"\"\"\n",
    "  return [[int(c) for c in items_per_elf.split('\\n')]\n",
    "          for items_per_elf in calories_txt.split('\\n\\n')]\n",
    "\n",
    "def max_calories(calories, n=1):\n",
    "  \"\"\"\n",
    "  >>> max_calories([[1, 2, 3], [4, 5]], n=1)\n",
    "  9\n",
    "  >>> max_calories([[1, 2, 3], [4, 5]], n=2)\n",
    "  [9, 6]\n",
    "  >>> max_calories([[1000, 2000, 3000], [4000], [5000, 6000], [7000, 8000, 9000], [10000]])\n",
    "  24000\n",
    "  \"\"\"\n",
    "  sums = (sum(cs) for cs in calories)\n",
    "  if n == 1:\n",
    "    return max(sums)\n",
    "  else:\n",
    "    return sorted(sums, reverse=True)[:n]"
   ]
  },
  {
   "cell_type": "code",
   "execution_count": 22,
   "metadata": {},
   "outputs": [
    {
     "name": "stdout",
     "output_type": "stream",
     "text": [
      "Finding tests in NoName\n",
      "Trying:\n",
      "    parse_calories(\"1\\n2\\n3\\n\\n4\\n5\")\n",
      "Expecting:\n",
      "    [[1, 2, 3], [4, 5]]\n",
      "ok\n",
      "Finding tests in NoName\n",
      "Trying:\n",
      "    max_calories([[1, 2, 3], [4, 5]], n=1)\n",
      "Expecting:\n",
      "    9\n",
      "ok\n",
      "Trying:\n",
      "    max_calories([[1, 2, 3], [4, 5]], n=2)\n",
      "Expecting:\n",
      "    [9, 6]\n",
      "ok\n",
      "Trying:\n",
      "    max_calories([[1000, 2000, 3000], [4000], [5000, 6000], [7000, 8000, 9000], [10000]])\n",
      "Expecting:\n",
      "    24000\n",
      "ok\n"
     ]
    }
   ],
   "source": [
    "doctest.run_docstring_examples(parse_calories, globs=None, verbose=True)\n",
    "doctest.run_docstring_examples(max_calories, globs=None, verbose=True)"
   ]
  },
  {
   "cell_type": "code",
   "execution_count": 23,
   "metadata": {},
   "outputs": [
    {
     "name": "stdout",
     "output_type": "stream",
     "text": [
      "Part 1:  71506\n",
      "Part 2:  209603\n"
     ]
    }
   ],
   "source": [
    "# Final answers\n",
    "with open('day1.txt') as f:\n",
    "    calories = parse_calories(f.read().strip())\n",
    "    print('Part 1: ', max_calories(calories))\n",
    "    print('Part 2: ', sum(max_calories(calories, 3)))"
   ]
  },
  {
   "cell_type": "markdown",
   "metadata": {},
   "source": [
    "# Day 2: Rock Paper Scissors"
   ]
  },
  {
   "cell_type": "code",
   "execution_count": 31,
   "metadata": {},
   "outputs": [],
   "source": [
    "SHAPE_SCORES = {'A': 1, 'B': 2, 'C': 3}\n",
    "RESPONSES = {'X': 'A', 'Y': 'B', 'Z': 'C'}\n",
    "BEATS = {('A', 'B'), ('B', 'C'), ('C', 'A')}\n",
    "\n",
    "def bad_response(them, you):\n",
    "  return RESPONSES[you]\n",
    "\n",
    "def smart_response(them, you):\n",
    "  if you == 'Y':    # tie\n",
    "    return them\n",
    "  elif you == 'X':  # lose\n",
    "    return next(l for (l, w) in BEATS if them == w)\n",
    "  elif you == 'Z':  # win\n",
    "    return next(w for (l, w) in BEATS if them == l)\n",
    "\n",
    "def shape_score(shape):\n",
    "  return SHAPE_SCORES[shape]\n",
    "\n",
    "def outcome_score(them, you):\n",
    "  if them == you:  # tie\n",
    "    return 3\n",
    "  elif (them, you) in BEATS:  # win\n",
    "    return 6\n",
    "  else:  # lose\n",
    "    return 0\n",
    "\n",
    "def score_game(game, response_fn):\n",
    "  them, you = game.split(' ')\n",
    "  you = response_fn(them, you)\n",
    "  return shape_score(you) + outcome_score(them, you)\n",
    "\n",
    "def score_strategy(strategy, response_fn):\n",
    "  r\"\"\"\n",
    "  >>> score_strategy(\"A Y\\nB X\\nC Z\", response_fn=bad_response)\n",
    "  15\n",
    "  >>> score_strategy(\"A Y\\nB X\\nC Z\", response_fn=smart_response)\n",
    "  12\n",
    "  \"\"\"\n",
    "  return sum(score_game(g, response_fn) for g in strategy.split('\\n'))\n"
   ]
  },
  {
   "cell_type": "code",
   "execution_count": 32,
   "metadata": {},
   "outputs": [
    {
     "name": "stdout",
     "output_type": "stream",
     "text": [
      "Finding tests in NoName\n",
      "Trying:\n",
      "    score_strategy(\"A Y\\nB X\\nC Z\", response_fn=bad_response)\n",
      "Expecting:\n",
      "    15\n",
      "ok\n",
      "Trying:\n",
      "    score_strategy(\"A Y\\nB X\\nC Z\", response_fn=smart_response)\n",
      "Expecting:\n",
      "    12\n",
      "ok\n"
     ]
    }
   ],
   "source": [
    "doctest.run_docstring_examples(score_strategy, globs=None, verbose=True)"
   ]
  },
  {
   "cell_type": "code",
   "execution_count": 33,
   "metadata": {},
   "outputs": [
    {
     "name": "stdout",
     "output_type": "stream",
     "text": [
      "Part 1:  11906\n",
      "Part 2:  11186\n"
     ]
    }
   ],
   "source": [
    "# Final answers\n",
    "with open('day2.txt') as f:\n",
    "    strategy = f.read().strip()\n",
    "    print('Part 1: ', score_strategy(strategy, bad_response))\n",
    "    print('Part 2: ', score_strategy(strategy, smart_response))"
   ]
  },
  {
   "cell_type": "markdown",
   "metadata": {},
   "source": [
    "# Day 3: Rucksack Reorganization"
   ]
  },
  {
   "cell_type": "code",
   "execution_count": 80,
   "metadata": {},
   "outputs": [],
   "source": [
    "from dataclasses import dataclass\n",
    "import string\n",
    "from typing import List\n",
    "from functools import reduce\n",
    "\n",
    "PRIORITIES = {}\n",
    "\n",
    "for c in string.ascii_lowercase:\n",
    "  PRIORITIES[c] = ord(c) - 96\n",
    "for C in string.ascii_uppercase:\n",
    "    PRIORITIES[C] = ord(C) - 38\n",
    "\n",
    "def priority(c):\n",
    "  \"\"\"\n",
    "  >>> priority('a')\n",
    "  1\n",
    "  >>> priority('Z')\n",
    "  52\n",
    "  \"\"\"\n",
    "  return PRIORITIES[c]\n",
    "\n",
    "@dataclass\n",
    "class Rucksack:\n",
    "  contents: str\n",
    "  \n",
    "  @property\n",
    "  def c1(self):\n",
    "    return self.contents[:len(self.contents)//2]\n",
    "\n",
    "  @property\n",
    "  def c2(self):\n",
    "    return self.contents[len(self.contents)//2:]\n",
    "  \n",
    "  def __iter__(self):\n",
    "    return iter(self.contents)\n",
    "\n",
    "  def shared(self):\n",
    "    \"\"\"\n",
    "    >>> Rucksack(\"vJrwpWtwJgWrhcsFMMfFFhFp\").shared()\n",
    "    'p'\n",
    "    \"\"\"\n",
    "    return next(iter(set(self.c1) & set(self.c2)))\n",
    "\n",
    "@dataclass\n",
    "class Group:\n",
    "  rucksacks: List[Rucksack]\n",
    "  \n",
    "  def shared(self):\n",
    "    \"\"\"\n",
    "    >>> Group([Rucksack(r) for r in '''vJrwpWtwJgWrhcsFMMfFFhFp\n",
    "    ... jqHRNqRjqzjGDLGLrsFMfFZSrLrFZsSL\n",
    "    ... PmmdzqPrVvPwwTWBwg'''.splitlines()]).shared()\n",
    "    'r'\n",
    "    \"\"\"\n",
    "    common = reduce(lambda a, b: a & b, (set(r) for r in self.rucksacks))\n",
    "    return next(iter(common))\n",
    "\n",
    "  @staticmethod\n",
    "  def from_rucksacks(rucksacks):\n",
    "    return [Group(g) for g in zip(*([iter(rucksacks)] * 3))]\n",
    "\n",
    "def shared_priority(objs):\n",
    "  r\"\"\"\n",
    "  >>> rucksacks = [Rucksack(r) for r in '''vJrwpWtwJgWrhcsFMMfFFhFp\n",
    "  ... jqHRNqRjqzjGDLGLrsFMfFZSrLrFZsSL\n",
    "  ... PmmdzqPrVvPwwTWBwg\n",
    "  ... wMqvLMZHhHMvwLHjbvcjnnSBnvTQFn\n",
    "  ... ttgJtRGJQctTZtZT\n",
    "  ... CrZsJsPPZsGzwwsLwLmpwMDw'''.splitlines()]\n",
    "  >>> shared_priority(rucksacks)\n",
    "  157\n",
    "  >>> shared_priority(Group.from_rucksacks(rucksacks))\n",
    "  70\n",
    "  \"\"\"\n",
    "  return sum(priority(o.shared()) for o in objs)\n",
    "    "
   ]
  },
  {
   "cell_type": "code",
   "execution_count": 83,
   "metadata": {},
   "outputs": [],
   "source": [
    "doctest.run_docstring_examples(priority, globs=None, verbose=False)\n",
    "doctest.run_docstring_examples(shared_priority, globs=None, verbose=False)\n",
    "doctest.run_docstring_examples(Rucksack.shared, globs=None, verbose=False)\n",
    "doctest.run_docstring_examples(Group.shared, globs=None, verbose=False)"
   ]
  },
  {
   "cell_type": "code",
   "execution_count": 87,
   "metadata": {},
   "outputs": [
    {
     "name": "stdout",
     "output_type": "stream",
     "text": [
      "Part 1:  7766\n",
      "Part 2:  2415\n"
     ]
    }
   ],
   "source": [
    "# Final answers\n",
    "with open('day3.txt') as f:\n",
    "    rucksacks = [Rucksack(cs.strip()) for cs in f]\n",
    "    print('Part 1: ', shared_priority(rucksacks))\n",
    "    print('Part 2: ', shared_priority(Group.from_rucksacks(rucksacks)))"
   ]
  },
  {
   "cell_type": "markdown",
   "metadata": {},
   "source": [
    "# Day 4: Camp Cleanup"
   ]
  },
  {
   "cell_type": "code",
   "execution_count": 81,
   "metadata": {},
   "outputs": [],
   "source": [
    "from dataclasses import dataclass\n",
    "\n",
    "@dataclass\n",
    "class Assignment:\n",
    "  start: int\n",
    "  end: int\n",
    "\n",
    "  def __repr__(self) -> str:\n",
    "    return f'Assignment({self.start}, {self.end})'\n",
    "\n",
    "  def __contains__(self, other):\n",
    "    \"\"\"\n",
    "    >>> Assignment(6, 6) in Assignment(4, 6)\n",
    "    True\n",
    "    >>> 5 in Assignment(4, 6)\n",
    "    True\n",
    "    \"\"\"\n",
    "    return self.contains(other)\n",
    "  \n",
    "  def contains(self, other):\n",
    "    \"\"\"\n",
    "    >>> Assignment(5, 7).contains(Assignment(7, 9))\n",
    "    False\n",
    "    >>> Assignment(2, 8).contains(Assignment(3, 7))\n",
    "    True\n",
    "    >>> Assignment(4, 6).contains(Assignment(6, 6))\n",
    "    True\n",
    "    >>> Assignment(4, 6).contains(1)\n",
    "    False\n",
    "    >>> Assignment(4, 6).contains(5)\n",
    "    True\n",
    "    \"\"\"\n",
    "    if isinstance(other, Assignment):\n",
    "      return (other.start >= self.start) and (other.end <= self.end)\n",
    "    else:\n",
    "      return self.start <= other <= self.end\n",
    "    \n",
    "  def overlaps(self, other):\n",
    "    \"\"\"\n",
    "    >>> Assignment(5, 7).overlaps(Assignment(7, 9))\n",
    "    True\n",
    "    >>> Assignment(7, 7).overlaps(Assignment(5, 7))\n",
    "    True\n",
    "    >>> Assignment(7, 12).overlaps(Assignment(4, 9))\n",
    "    True\n",
    "    >>> Assignment(2, 3).overlaps(Assignment(4, 5))\n",
    "    False\n",
    "    \"\"\"\n",
    "    return (self.contains(other.start) or self.contains(other.end)\n",
    "            or self in other or other in self)\n",
    "\n",
    "  @staticmethod\n",
    "  def parse(range):\n",
    "    \"\"\"\n",
    "    >>> Assignment.parse(\"2-4\")\n",
    "    Assignment(2, 4)\n",
    "    >>> Assignment.parse(\"1-19\")\n",
    "    Assignment(1, 19)\n",
    "    \"\"\"\n",
    "    return Assignment(*(int(s) for s in range.split('-')))\n",
    "\n",
    "def parse_line(l):\n",
    "  \"\"\"\n",
    "  >>> parse_line(\"2-4,6-8\")\n",
    "  [Assignment(2, 4), Assignment(6, 8)]\n",
    "  \"\"\"\n",
    "  return [Assignment.parse(r) for r in l.strip().split(',')]\n",
    "\n",
    "def num_redundant_pairs(pairs):\n",
    "  r\"\"\"\n",
    "  >>> num_redundant_pairs(TEST_CASE)\n",
    "  2\n",
    "  \"\"\"\n",
    "  return sum(a in b or b in a for (a, b) in pairs)\n",
    "\n",
    "def num_overlapping_pairs(pairs):\n",
    "  r\"\"\"\n",
    "  >>> num_overlapping_pairs(TEST_CASE)\n",
    "  4\n",
    "  \"\"\"\n",
    "  return sum(a.overlaps(b) for (a, b) in pairs)"
   ]
  },
  {
   "cell_type": "code",
   "execution_count": 80,
   "metadata": {},
   "outputs": [
    {
     "data": {
      "text/plain": [
       "TestResults(failed=0, attempted=18)"
      ]
     },
     "execution_count": 80,
     "metadata": {},
     "output_type": "execute_result"
    }
   ],
   "source": [
    "TEST_CASE =  [parse_line(l) for l in '''2-4,6-8\n",
    "2-3,4-5\n",
    "5-7,7-9\n",
    "2-8,3-7\n",
    "6-6,4-6\n",
    "2-6,4-8'''.splitlines()]\n",
    "doctest.testmod(verbose=False, extraglobs={'TEST_CASE':TEST_CASE})"
   ]
  },
  {
   "cell_type": "code",
   "execution_count": 82,
   "metadata": {},
   "outputs": [
    {
     "name": "stdout",
     "output_type": "stream",
     "text": [
      "Part 1:  556\n",
      "Part 2:  876\n"
     ]
    }
   ],
   "source": [
    "# Final answers\n",
    "with open('day4.txt') as f:\n",
    "    pairs = [parse_line(l) for l in f]\n",
    "    print('Part 1: ', num_redundant_pairs(pairs))\n",
    "    print('Part 2: ', num_overlapping_pairs(pairs))"
   ]
  },
  {
   "cell_type": "code",
   "execution_count": null,
   "metadata": {},
   "outputs": [],
   "source": []
  }
 ],
 "metadata": {
  "kernelspec": {
   "display_name": "Python 3.8.10 ('.venv': poetry)",
   "language": "python",
   "name": "python3"
  },
  "language_info": {
   "codemirror_mode": {
    "name": "ipython",
    "version": 3
   },
   "file_extension": ".py",
   "mimetype": "text/x-python",
   "name": "python",
   "nbconvert_exporter": "python",
   "pygments_lexer": "ipython3",
   "version": "3.8.10"
  },
  "orig_nbformat": 4,
  "vscode": {
   "interpreter": {
    "hash": "1005cf2ebbbefdb95d055bf73c199dbf3d599b8ded6068c113a39379c76fbafa"
   }
  }
 },
 "nbformat": 4,
 "nbformat_minor": 2
}
