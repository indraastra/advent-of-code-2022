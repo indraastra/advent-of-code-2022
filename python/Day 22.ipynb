{
 "cells": [
  {
   "cell_type": "code",
   "execution_count": 178,
   "metadata": {},
   "outputs": [],
   "source": [
    "from enum import Enum, IntEnum\n",
    "from dataclasses import dataclass, field\n",
    "from typing import Tuple, List, Union, Optional\n",
    "import itertools\n",
    "\n",
    "Pos = Tuple[int, int]\n",
    "\n",
    "class CellType(Enum):\n",
    "  WRAP = 0\n",
    "  OPEN = 1\n",
    "  WALL = 2\n",
    "\n",
    "  @staticmethod\n",
    "  def from_string(s: str) -> 'CellType':\n",
    "    if s == ' ':\n",
    "      return CellType.WRAP\n",
    "    elif s == '.':\n",
    "      return CellType.OPEN\n",
    "    elif s == '#':\n",
    "      return CellType.WALL\n",
    "\n",
    "@dataclass\n",
    "class Span:\n",
    "  lo: Optional[int] = None\n",
    "  hi: Optional[int] = None\n",
    "\n",
    "  def add(self, n: int):\n",
    "    if self.lo is None or n < self.lo:\n",
    "      self.lo = n\n",
    "    if self.hi is None or n > self.hi:\n",
    "      self.hi = n\n",
    "\n",
    "  def wrap(self, n: int) -> int:\n",
    "    return self.lo + ((n - self.lo) % (self.hi - self.lo + 1))\n",
    "\n",
    "  def __contains__(self, n: int) -> bool:\n",
    "    return self.lo <= n <= self.hi\n",
    "  \n",
    "@dataclass\n",
    "class Map:\n",
    "  height: int\n",
    "  width: int\n",
    "  cells: set\n",
    "  walls: set\n",
    "  start: Pos\n",
    "  row_spans: List[Span]\n",
    "  col_spans: List[Span]\n",
    "\n",
    "  def wrap_col(self, p: Pos) -> Pos:\n",
    "    r, c = p\n",
    "    return (r, self.col_spans[r].wrap(c))\n",
    "\n",
    "  def wrap_row(self, p: Pos) -> Pos:\n",
    "    r, c = p\n",
    "    return (self.row_spans[c].wrap(r), c)\n",
    "  \n",
    "  def render(self, p: Pos) -> str:\n",
    "    if p in self.cells:\n",
    "      return '.'\n",
    "    elif p in self.walls:\n",
    "      return '#'\n",
    "    else:\n",
    "      return ' '\n",
    "  \n",
    "  def is_wall(self, p: Pos) -> bool:\n",
    "    return p in self.walls\n",
    "\n",
    "  @staticmethod\n",
    "  def from_string(s: str) -> 'Map':\n",
    "    height = 1\n",
    "    width = 1\n",
    "    cells = set()\n",
    "    walls = set()\n",
    "    start = None\n",
    "    for ry, row in enumerate(s.splitlines()):\n",
    "      for cx, cell in enumerate(row):\n",
    "        height = max(height, ry + 1)\n",
    "        width = max(width, cx + 1)\n",
    "        pos = (ry, cx)\n",
    "        cell = CellType.from_string(cell)\n",
    "        if cell == CellType.OPEN:\n",
    "          cells.add(pos)\n",
    "          if start is None:\n",
    "            start = pos\n",
    "        elif cell == CellType.WALL:\n",
    "          walls.add(pos)\n",
    "    row_spans = [Span() for _ in range(width)]\n",
    "    col_spans = [Span() for _ in range(height)]\n",
    "    for ry, cx in itertools.chain(cells, walls):\n",
    "      row_spans[cx].add(ry)\n",
    "      col_spans[ry].add(cx)\n",
    "    return Map(height, width, cells, walls, start, row_spans, col_spans)\n",
    "\n",
    "class Facing(IntEnum):\n",
    "  R = 0\n",
    "  D = 1\n",
    "  L = 2\n",
    "  U = 3\n",
    "\n",
    "  def turn(self, s: str) -> 'Facing':\n",
    "    if s == 'R':\n",
    "      return Facing((self.value + 1) % 4)\n",
    "    elif s == 'L':\n",
    "      return Facing((self.value - 1) % 4)\n",
    "    \n",
    "  def to_string(self) -> str:\n",
    "    if self == Facing.U:\n",
    "      return '^'\n",
    "    elif self == Facing.R:\n",
    "      return '>'\n",
    "    elif self == Facing.D:\n",
    "      return 'v'\n",
    "    elif self == Facing.L:\n",
    "      return '<'\n",
    "\n",
    "@dataclass\n",
    "class Mover:\n",
    "  map: Map\n",
    "  moves: List[Union[int, str]]\n",
    "  path: List[Tuple[Facing, Pos]] = field(default_factory=list)\n",
    "  facing: Facing = Facing.R\n",
    "  pos: Tuple[int, int] = field(init=False)\n",
    "  \n",
    "  def __post_init__(self):\n",
    "    self.pos = self.map.start\n",
    "    # self.path.append((self.facing, self.pos))\n",
    "\n",
    "  def has_moves(self) -> bool:\n",
    "    return len(self.moves) > 0\n",
    "  \n",
    "  def step(self):\n",
    "    if self.moves[0] in ('R', 'L'):\n",
    "      # print('turning', self.facing, self.moves[0])\n",
    "      self.facing = self.facing.turn(self.moves[0])\n",
    "      self.moves = self.moves[1:]\n",
    "      return\n",
    "\n",
    "    # print('moving', self.facing, self.moves[0])\n",
    "    r, c = self.pos\n",
    "    next = None\n",
    "    if self.facing == Facing.U:\n",
    "      next = self.map.wrap_row((r - 1, c))\n",
    "    elif self.facing == Facing.R:\n",
    "      next = self.map.wrap_col((r, c + 1))\n",
    "    elif self.facing == Facing.D:\n",
    "      next = self.map.wrap_row((r + 1, c))\n",
    "    else:\n",
    "      next = self.map.wrap_col((r, c - 1))\n",
    "\n",
    "    # Block movement if wall.\n",
    "    if self.map.is_wall(next):\n",
    "      self.moves[0] = 0\n",
    "    else:\n",
    "      self.path.append((self.facing, self.pos))\n",
    "      self.pos = next\n",
    "      self.moves[0] -= 1\n",
    "      \n",
    "    if self.moves[0] == 0:\n",
    "      self.moves = self.moves[1:]\n",
    "\n",
    "  def render_path(self) -> str:\n",
    "    grid = [[self.map.render((r, c)) for c in range(self.map.width)]\n",
    "            for r in range(self.map.height)]\n",
    "    for f, (r, c) in self.path + [(self.facing, self.pos)]:\n",
    "      grid[r][c] = f.to_string()\n",
    "    return ('\\n'.join(''.join(r) for r in grid))\n",
    "  \n",
    "  def score(self) -> int:\n",
    "    r, c = self.pos\n",
    "    return 1000 * (r+1) + 4 * (c+1) + self.facing.value\n",
    "    \n",
    "def parse_moves(s: str):\n",
    "  moves = []\n",
    "  i = 0\n",
    "  for j, v in enumerate(s):\n",
    "    if v in ('L', 'R'):\n",
    "      moves.append(int(s[i:j]))\n",
    "      moves.append(s[j])\n",
    "      i = j + 1\n",
    "  if i != len(s):\n",
    "    moves.append(int(s[i:]))\n",
    "  return moves\n",
    "\n",
    "def parse_puzzle_input(s: str):\n",
    "  map, moves = s.split('\\n\\n')\n",
    "  map = Map.from_string(map)\n",
    "  moves = parse_moves(moves)\n",
    "\n",
    "  print(f'parsed grid of ({map.height} rows x {map.width} cols)')\n",
    "  return map, moves\n",
    "  "
   ]
  },
  {
   "cell_type": "code",
   "execution_count": 179,
   "metadata": {},
   "outputs": [
    {
     "name": "stdout",
     "output_type": "stream",
     "text": [
      "parsed grid of (12 rows x 16 cols)\n"
     ]
    }
   ],
   "source": [
    "puzzle = \"\"\"        ...#\n",
    "        .#..\n",
    "        #...\n",
    "        ....\n",
    "...#.......#\n",
    "........#...\n",
    "..#....#....\n",
    "..........#.\n",
    "        ...#....\n",
    "        .....#..\n",
    "        .#......\n",
    "        ......#.\n",
    "\n",
    "10R5L5R10L4R5L5\"\"\"\n",
    "\n",
    "map, moves = parse_puzzle_input(puzzle)\n",
    "mover = Mover(map, moves)"
   ]
  },
  {
   "cell_type": "code",
   "execution_count": 180,
   "metadata": {},
   "outputs": [
    {
     "data": {
      "text/plain": [
       "[10, 'R', 5, 'L', 5, 'R', 10, 'L', 4, 'R', 5, 'L', 5]"
      ]
     },
     "execution_count": 180,
     "metadata": {},
     "output_type": "execute_result"
    }
   ],
   "source": [
    "moves"
   ]
  },
  {
   "cell_type": "code",
   "execution_count": 181,
   "metadata": {},
   "outputs": [],
   "source": [
    "while mover.has_moves():\n",
    "  mover.step()"
   ]
  },
  {
   "cell_type": "code",
   "execution_count": 182,
   "metadata": {},
   "outputs": [
    {
     "name": "stdout",
     "output_type": "stream",
     "text": [
      "        >>v#    \n",
      "        .#v.    \n",
      "        #.v.    \n",
      "        ..v.    \n",
      "...#...v..v#    \n",
      ">>>v...>#.>>    \n",
      "..#v...#....    \n",
      "...>>>>v..#.    \n",
      "        ...#....\n",
      "        .....#..\n",
      "        .#......\n",
      "        ......#.\n",
      "6032\n"
     ]
    }
   ],
   "source": [
    "print(mover.render_path())\n",
    "print(mover.score())"
   ]
  },
  {
   "cell_type": "code",
   "execution_count": 183,
   "metadata": {},
   "outputs": [
    {
     "name": "stdout",
     "output_type": "stream",
     "text": [
      "parsed grid of (200 rows x 150 cols)\n",
      "Part 1: 196134\n"
     ]
    }
   ],
   "source": [
    "with open('day22.txt') as puzzle:\n",
    "  map, moves = parse_puzzle_input(puzzle.read())\n",
    "  mover = Mover(map, moves)\n",
    "  while mover.has_moves():\n",
    "    mover.step()\n",
    "  print('Part 1:', mover.score())"
   ]
  },
  {
   "cell_type": "code",
   "execution_count": null,
   "metadata": {},
   "outputs": [],
   "source": [
    "simple = \"\"\"\"\n",
    " A\n",
    " BCD\n",
    "EF\n",
    "\"\"\""
   ]
  }
 ],
 "metadata": {
  "kernelspec": {
   "display_name": "Python 3.8.10 ('.venv': poetry)",
   "language": "python",
   "name": "python3"
  },
  "language_info": {
   "codemirror_mode": {
    "name": "ipython",
    "version": 3
   },
   "file_extension": ".py",
   "mimetype": "text/x-python",
   "name": "python",
   "nbconvert_exporter": "python",
   "pygments_lexer": "ipython3",
   "version": "3.8.10"
  },
  "orig_nbformat": 4,
  "vscode": {
   "interpreter": {
    "hash": "1005cf2ebbbefdb95d055bf73c199dbf3d599b8ded6068c113a39379c76fbafa"
   }
  }
 },
 "nbformat": 4,
 "nbformat_minor": 2
}
